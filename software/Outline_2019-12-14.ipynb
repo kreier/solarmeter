{
  "nbformat": 4,
  "nbformat_minor": 0,
  "metadata": {
    "colab": {
      "name": "Outline.ipynb",
      "provenance": []
    },
    "kernelspec": {
      "name": "python3",
      "display_name": "Python 3"
    }
  },
  "cells": [
    {
      "cell_type": "markdown",
      "metadata": {
        "id": "04iyJ6l3RNxo",
        "colab_type": "text"
      },
      "source": [
        "# Solar power in HCM\n",
        "\n",
        "To investigate the feasability of solar cells in Vietnam we set up a simple experiment. A solar cell on the rooftop of our school AISVN in Nha Be, connected to an esp8266 that was measuring the output voltage every 5 minutes and pushing the data to a google sheet.\n",
        "\n",
        "The graph produced and updated there was published on a website:\n",
        "\n",
        "https://sites.google.com/ais.edu.vn/solar\n",
        "\n",
        "Tom created the setup and code and provided it on github. Since the esp8266 is running micropython we can show you the code here.\n",
        "\n",
        "But first we have to understand some fundamentals. Because we are interested in the output power, not just merely the produced $emf$ without a load. For our $V_{open} = 12V$ solar cell the maximum output power we measured was $V_{max} = 18V$. For best performance we have to find the MPP - maximum power point. But a [MPPT](https://en.wikipedia.org/wiki/Maximum_power_point_tracking) is out of reach for students, so we estimate this point and design a fitting resistor.\n",
        "\n",
        "The datasheet gives us some values for the solar cell:\n",
        " - $V = 12 V$\n",
        " - $P = 1.5 W$\n",
        "\n",
        "We can use this to calculate our resistor $R$. The relation between power $P$, voltage $V$ and electrical current $I$ is given by\n",
        "\n",
        " $$P = V \\times I$$\n",
        "\n",
        "Ohms law for resistance $R$ is known as\n",
        "\n",
        "$$R = \\frac{V}{I}$$\n",
        "\n",
        "If we substitute the current $I$ from the power equation $I = \\frac{R}{V}$ we get the formula\n",
        "\n",
        "$$R = \\frac{V}{\\frac{P}{V}} = \\frac{V^2}{P}$$\n",
        "\n",
        "The designed load resitor should therefore have a resitance of $R = 96\\Omega$."
      ]
    },
    {
      "cell_type": "code",
      "metadata": {
        "id": "txraG4PhRLoK",
        "colab_type": "code",
        "outputId": "e8d78ffd-6606-4a0a-cec5-1f396f0277e5",
        "colab": {
          "base_uri": "https://localhost:8080/",
          "height": 34
        }
      },
      "source": [
        "V = 12        # voltage given of the solar panel\n",
        "P = 1.5       # maximum power output\n",
        "R = V**2 / P\n",
        "R"
      ],
      "execution_count": 0,
      "outputs": [
        {
          "output_type": "execute_result",
          "data": {
            "text/plain": [
              "96.0"
            ]
          },
          "metadata": {
            "tags": []
          },
          "execution_count": 1
        }
      ]
    },
    {
      "cell_type": "markdown",
      "metadata": {
        "id": "qXdc1x7cUfUO",
        "colab_type": "text"
      },
      "source": [
        "Here is a picture of our setup:\n",
        "\n",
        "![esp8266](https://drive.google.com/uc?id=1_ktaAxTiX6z2oOSpSdqvzNMywXJhtTaS)\n",
        "\n",
        "![Solar cell](https://drive.google.com/uc?id=1de9nm0PBWvQOtLix52W4IaoIF4wEJvDu)\n",
        "\n",
        "![ESP8266 from side](https://drive.google.com/uc?id=1-g_tEjzAaQHSHrmNWPnz2I9_kqj_zUet)"
      ]
    },
    {
      "cell_type": "markdown",
      "metadata": {
        "id": "8rV6Xe3lXQTP",
        "colab_type": "text"
      },
      "source": [
        "## Timeline\n",
        "\n",
        "- 2019/12/08 Website https://sites.google.com/ais.edu.vn/solar created.\n",
        "- 2019/12/14 First sketch of jupyter notebook. First calculations."
      ]
    }
  ]
}